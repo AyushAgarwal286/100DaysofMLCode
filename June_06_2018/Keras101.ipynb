{
 "cells": [
  {
   "cell_type": "markdown",
   "metadata": {},
   "source": [
    "### MLP for classification Tasks"
   ]
  },
  {
   "cell_type": "code",
   "execution_count": 105,
   "metadata": {},
   "outputs": [],
   "source": [
    "from sklearn.datasets import load_breast_cancer\n",
    "from sklearn.model_selection import train_test_split"
   ]
  },
  {
   "cell_type": "code",
   "execution_count": 106,
   "metadata": {},
   "outputs": [],
   "source": [
    "data = load_breast_cancer()"
   ]
  },
  {
   "cell_type": "code",
   "execution_count": 107,
   "metadata": {},
   "outputs": [],
   "source": [
    "X_data = data.data\n",
    "y_data = data.target"
   ]
  },
  {
   "cell_type": "code",
   "execution_count": 108,
   "metadata": {},
   "outputs": [
    {
     "data": {
      "text/plain": [
       "(569, 30)"
      ]
     },
     "execution_count": 108,
     "metadata": {},
     "output_type": "execute_result"
    }
   ],
   "source": [
    "X_data.shape"
   ]
  },
  {
   "cell_type": "code",
   "execution_count": 109,
   "metadata": {},
   "outputs": [
    {
     "data": {
      "text/plain": [
       "(569,)"
      ]
     },
     "execution_count": 109,
     "metadata": {},
     "output_type": "execute_result"
    }
   ],
   "source": [
    "y_data.shape"
   ]
  },
  {
   "cell_type": "code",
   "execution_count": 110,
   "metadata": {},
   "outputs": [],
   "source": [
    "# splitting the dataset\n",
    "X_train, X_test, y_train, y_test = train_test_split(X_data, y_data, test_size = 0.3, random_state = 7)"
   ]
  },
  {
   "cell_type": "code",
   "execution_count": 111,
   "metadata": {},
   "outputs": [
    {
     "name": "stdout",
     "output_type": "stream",
     "text": [
      "(398, 30)\n",
      "(171, 30)\n",
      "(398,)\n",
      "(171,)\n"
     ]
    }
   ],
   "source": [
    "print(X_train.shape)\n",
    "print(X_test.shape)\n",
    "print(y_train.shape)\n",
    "print(y_test.shape)"
   ]
  },
  {
   "cell_type": "code",
   "execution_count": 112,
   "metadata": {},
   "outputs": [],
   "source": [
    "# Creating a model\n",
    "import tensorflow\n",
    "from keras.models import Sequential\n",
    "model = Sequential()"
   ]
  },
  {
   "cell_type": "code",
   "execution_count": 113,
   "metadata": {},
   "outputs": [],
   "source": [
    "# importing layer adding libraries\n",
    "from keras.layers import Activation, Dense"
   ]
  },
  {
   "cell_type": "code",
   "execution_count": 77,
   "metadata": {},
   "outputs": [],
   "source": [
    "# adding layer\n",
    "model.add(Dense(10, input_shape = (30,), activation = 'sigmoid'))\n",
    "model.add(Dense(10, activation = 'sigmoid'))\n",
    "model.add(Dense(10, activation = 'sigmoid'))\n",
    "model.add(Dense(1, activation = 'sigmoid'))"
   ]
  },
  {
   "cell_type": "code",
   "execution_count": 78,
   "metadata": {},
   "outputs": [],
   "source": [
    "# model compiling\n",
    "from keras import optimizers\n",
    "sdg = optimizers.SGD(lr = 0.01) # stochastic gradient descent optimizer"
   ]
  },
  {
   "cell_type": "code",
   "execution_count": 79,
   "metadata": {},
   "outputs": [],
   "source": [
    "model.compile(optimizer = sdg, loss = 'binary_crossentropy', metrics = ['accuracy'])"
   ]
  },
  {
   "cell_type": "code",
   "execution_count": 80,
   "metadata": {},
   "outputs": [
    {
     "name": "stdout",
     "output_type": "stream",
     "text": [
      "_________________________________________________________________\n",
      "Layer (type)                 Output Shape              Param #   \n",
      "=================================================================\n",
      "dense_29 (Dense)             (None, 10)                310       \n",
      "_________________________________________________________________\n",
      "dense_30 (Dense)             (None, 10)                110       \n",
      "_________________________________________________________________\n",
      "dense_31 (Dense)             (None, 10)                110       \n",
      "_________________________________________________________________\n",
      "dense_32 (Dense)             (None, 1)                 11        \n",
      "=================================================================\n",
      "Total params: 541\n",
      "Trainable params: 541\n",
      "Non-trainable params: 0\n",
      "_________________________________________________________________\n"
     ]
    }
   ],
   "source": [
    "# Summary of the model\n",
    "model.summary()"
   ]
  },
  {
   "cell_type": "code",
   "execution_count": 81,
   "metadata": {},
   "outputs": [
    {
     "name": "stdout",
     "output_type": "stream",
     "text": [
      "Epoch 1/100\n",
      "\r",
      " 50/398 [==>...........................] - ETA: 3s - loss: 0.7630 - acc: 0.4200\b\b\b\b\b\b\b\b\b\b\b\b\b\b\b\b\b\b\b\b\b\b\b\b\b\b\b\b\b\b\b\b\b\b\b\b\b\b\b\b\b\b\b\b\b\b\b\b\b\b\b\b\b\b\b\b\b\b\b\b\b\b\b\b\b\b\b\b\b\b\b\b\b\b\b\b\b\b\b\r",
      "398/398 [==============================] - 0s 1ms/step - loss: 0.6716 - acc: 0.6055\n",
      "Epoch 2/100\n",
      "\r",
      " 50/398 [==>...........................] - ETA: 0s - loss: 0.6835 - acc: 0.5800\b\b\b\b\b\b\b\b\b\b\b\b\b\b\b\b\b\b\b\b\b\b\b\b\b\b\b\b\b\b\b\b\b\b\b\b\b\b\b\b\b\b\b\b\b\b\b\b\b\b\b\b\b\b\b\b\b\b\b\b\b\b\b\b\b\b\b\b\b\b\b\b\b\b\b\b\b\b\b\r",
      "398/398 [==============================] - 0s 62us/step - loss: 0.6713 - acc: 0.6055\n",
      "Epoch 3/100\n",
      "\r",
      " 50/398 [==>...........................] - ETA: 0s - loss: 0.6449 - acc: 0.6600\b\b\b\b\b\b\b\b\b\b\b\b\b\b\b\b\b\b\b\b\b\b\b\b\b\b\b\b\b\b\b\b\b\b\b\b\b\b\b\b\b\b\b\b\b\b\b\b\b\b\b\b\b\b\b\b\b\b\b\b\b\b\b\b\b\b\b\b\b\b\b\b\b\b\b\b\b\b\b\r",
      "398/398 [==============================] - 0s 66us/step - loss: 0.6712 - acc: 0.6055\n",
      "Epoch 4/100\n",
      "\r",
      " 50/398 [==>...........................] - ETA: 0s - loss: 0.7118 - acc: 0.5200\b\b\b\b\b\b\b\b\b\b\b\b\b\b\b\b\b\b\b\b\b\b\b\b\b\b\b\b\b\b\b\b\b\b\b\b\b\b\b\b\b\b\b\b\b\b\b\b\b\b\b\b\b\b\b\b\b\b\b\b\b\b\b\b\b\b\b\b\b\b\b\b\b\b\b\b\b\b\b\r",
      "398/398 [==============================] - 0s 48us/step - loss: 0.6711 - acc: 0.6055\n",
      "Epoch 5/100\n",
      "\r",
      " 50/398 [==>...........................] - ETA: 0s - loss: 0.7209 - acc: 0.5000\b\b\b\b\b\b\b\b\b\b\b\b\b\b\b\b\b\b\b\b\b\b\b\b\b\b\b\b\b\b\b\b\b\b\b\b\b\b\b\b\b\b\b\b\b\b\b\b\b\b\b\b\b\b\b\b\b\b\b\b\b\b\b\b\b\b\b\b\b\b\b\b\b\b\b\b\b\b\b\r",
      "398/398 [==============================] - 0s 55us/step - loss: 0.6711 - acc: 0.6055\n",
      "Epoch 6/100\n",
      "\r",
      " 50/398 [==>...........................] - ETA: 0s - loss: 0.6641 - acc: 0.6200\b\b\b\b\b\b\b\b\b\b\b\b\b\b\b\b\b\b\b\b\b\b\b\b\b\b\b\b\b\b\b\b\b\b\b\b\b\b\b\b\b\b\b\b\b\b\b\b\b\b\b\b\b\b\b\b\b\b\b\b\b\b\b\b\b\b\b\b\b\b\b\b\b\b\b\b\b\b\b\r",
      "398/398 [==============================] - 0s 55us/step - loss: 0.6711 - acc: 0.6055\n",
      "Epoch 7/100\n",
      "\r",
      " 50/398 [==>...........................] - ETA: 0s - loss: 0.6546 - acc: 0.6400\b\b\b\b\b\b\b\b\b\b\b\b\b\b\b\b\b\b\b\b\b\b\b\b\b\b\b\b\b\b\b\b\b\b\b\b\b\b\b\b\b\b\b\b\b\b\b\b\b\b\b\b\b\b\b\b\b\b\b\b\b\b\b\b\b\b\b\b\b\b\b\b\b\b\b\b\b\b\b\r",
      "398/398 [==============================] - 0s 44us/step - loss: 0.6710 - acc: 0.6055\n",
      "Epoch 8/100\n",
      "\r",
      " 50/398 [==>...........................] - ETA: 0s - loss: 0.6554 - acc: 0.6400\b\b\b\b\b\b\b\b\b\b\b\b\b\b\b\b\b\b\b\b\b\b\b\b\b\b\b\b\b\b\b\b\b\b\b\b\b\b\b\b\b\b\b\b\b\b\b\b\b\b\b\b\b\b\b\b\b\b\b\b\b\b\b\b\b\b\b\b\b\b\b\b\b\b\b\b\b\b\b\r",
      "398/398 [==============================] - 0s 65us/step - loss: 0.6710 - acc: 0.6055\n",
      "Epoch 9/100\n",
      "\r",
      " 50/398 [==>...........................] - ETA: 0s - loss: 0.6363 - acc: 0.6800\b\b\b\b\b\b\b\b\b\b\b\b\b\b\b\b\b\b\b\b\b\b\b\b\b\b\b\b\b\b\b\b\b\b\b\b\b\b\b\b\b\b\b\b\b\b\b\b\b\b\b\b\b\b\b\b\b\b\b\b\b\b\b\b\b\b\b\b\b\b\b\b\b\b\b\b\b\b\b\r",
      "398/398 [==============================] - 0s 50us/step - loss: 0.6711 - acc: 0.6055\n",
      "Epoch 10/100\n",
      "\r",
      " 50/398 [==>...........................] - ETA: 0s - loss: 0.6648 - acc: 0.6200\b\b\b\b\b\b\b\b\b\b\b\b\b\b\b\b\b\b\b\b\b\b\b\b\b\b\b\b\b\b\b\b\b\b\b\b\b\b\b\b\b\b\b\b\b\b\b\b\b\b\b\b\b\b\b\b\b\b\b\b\b\b\b\b\b\b\b\b\b\b\b\b\b\b\b\b\b\b\b\r",
      "398/398 [==============================] - 0s 48us/step - loss: 0.6710 - acc: 0.6055\n",
      "Epoch 11/100\n",
      "\r",
      " 50/398 [==>...........................] - ETA: 0s - loss: 0.6733 - acc: 0.6000\b\b\b\b\b\b\b\b\b\b\b\b\b\b\b\b\b\b\b\b\b\b\b\b\b\b\b\b\b\b\b\b\b\b\b\b\b\b\b\b\b\b\b\b\b\b\b\b\b\b\b\b\b\b\b\b\b\b\b\b\b\b\b\b\b\b\b\b\b\b\b\b\b\b\b\b\b\b\b\r",
      "398/398 [==============================] - 0s 48us/step - loss: 0.6710 - acc: 0.6055\n",
      "Epoch 12/100\n",
      "\r",
      " 50/398 [==>...........................] - ETA: 0s - loss: 0.6733 - acc: 0.6000\b\b\b\b\b\b\b\b\b\b\b\b\b\b\b\b\b\b\b\b\b\b\b\b\b\b\b\b\b\b\b\b\b\b\b\b\b\b\b\b\b\b\b\b\b\b\b\b\b\b\b\b\b\b\b\b\b\b\b\b\b\b\b\b\b\b\b\b\b\b\b\b\b\b\b\b\b\b\b\r",
      "398/398 [==============================] - 0s 51us/step - loss: 0.6709 - acc: 0.6055\n",
      "Epoch 13/100\n",
      "\r",
      " 50/398 [==>...........................] - ETA: 0s - loss: 0.6823 - acc: 0.5800\b\b\b\b\b\b\b\b\b\b\b\b\b\b\b\b\b\b\b\b\b\b\b\b\b\b\b\b\b\b\b\b\b\b\b\b\b\b\b\b\b\b\b\b\b\b\b\b\b\b\b\b\b\b\b\b\b\b\b\b\b\b\b\b\b\b\b\b\b\b\b\b\b\b\b\b\b\b\b\r",
      "398/398 [==============================] - 0s 62us/step - loss: 0.6709 - acc: 0.6055\n",
      "Epoch 14/100\n",
      "\r",
      " 50/398 [==>...........................] - ETA: 0s - loss: 0.6460 - acc: 0.6600\b\b\b\b\b\b\b\b\b\b\b\b\b\b\b\b\b\b\b\b\b\b\b\b\b\b\b\b\b\b\b\b\b\b\b\b\b\b\b\b\b\b\b\b\b\b\b\b\b\b\b\b\b\b\b\b\b\b\b\b\b\b\b\b\b\b\b\b\b\b\b\b\b\b\b\b\b\b\b\r",
      "398/398 [==============================] - 0s 48us/step - loss: 0.6708 - acc: 0.6055\n",
      "Epoch 15/100\n",
      "\r",
      " 50/398 [==>...........................] - ETA: 0s - loss: 0.6556 - acc: 0.6400\b\b\b\b\b\b\b\b\b\b\b\b\b\b\b\b\b\b\b\b\b\b\b\b\b\b\b\b\b\b\b\b\b\b\b\b\b\b\b\b\b\b\b\b\b\b\b\b\b\b\b\b\b\b\b\b\b\b\b\b\b\b\b\b\b\b\b\b\b\b\b\b\b\b\b\b\b\b\b\r",
      "398/398 [==============================] - 0s 49us/step - loss: 0.6709 - acc: 0.6055\n",
      "Epoch 16/100\n",
      "\r",
      " 50/398 [==>...........................] - ETA: 0s - loss: 0.6822 - acc: 0.5800\b\b\b\b\b\b\b\b\b\b\b\b\b\b\b\b\b\b\b\b\b\b\b\b\b\b\b\b\b\b\b\b\b\b\b\b\b\b\b\b\b\b\b\b\b\b\b\b\b\b\b\b\b\b\b\b\b\b\b\b\b\b\b\b\b\b\b\b\b\b\b\b\b\b\b\b\b\b\b\r",
      "398/398 [==============================] - 0s 47us/step - loss: 0.6709 - acc: 0.6055\n",
      "Epoch 17/100\n",
      "\r",
      " 50/398 [==>...........................] - ETA: 0s - loss: 0.6911 - acc: 0.5600\b\b\b\b\b\b\b\b\b\b\b\b\b\b\b\b\b\b\b\b\b\b\b\b\b\b\b\b\b\b\b\b\b\b\b\b\b\b\b\b\b\b\b\b\b\b\b\b\b\b\b\b\b\b\b\b\b\b\b\b\b\b\b\b\b\b\b\b\b\b\b\b\b\b\b\b\b\b\b\r",
      "398/398 [==============================] - 0s 45us/step - loss: 0.6709 - acc: 0.6055\n",
      "Epoch 18/100\n",
      "\r",
      " 50/398 [==>...........................] - ETA: 0s - loss: 0.6557 - acc: 0.6400\b\b\b\b\b\b\b\b\b\b\b\b\b\b\b\b\b\b\b\b\b\b\b\b\b\b\b\b\b\b\b\b\b\b\b\b\b\b\b\b\b\b\b\b\b\b\b\b\b\b\b\b\b\b\b\b\b\b\b\b\b\b\b\b\b\b\b\b\b\b\b\b\b\b\b\b\b\b\b\r",
      "398/398 [==============================] - 0s 43us/step - loss: 0.6709 - acc: 0.6055\n",
      "Epoch 19/100\n",
      "\r",
      " 50/398 [==>...........................] - ETA: 0s - loss: 0.6285 - acc: 0.7000\b\b\b\b\b\b\b\b\b\b\b\b\b\b\b\b\b\b\b\b\b\b\b\b\b\b\b\b\b\b\b\b\b\b\b\b\b\b\b\b\b\b\b\b\b\b\b\b\b\b\b\b\b\b\b\b\b\b\b\b\b\b\b\b\b\b\b\b\b\b\b\b\b\b\b\b\b\b\b\r",
      "398/398 [==============================] - 0s 50us/step - loss: 0.6708 - acc: 0.6055\n",
      "Epoch 20/100\n",
      "\r",
      " 50/398 [==>...........................] - ETA: 0s - loss: 0.6732 - acc: 0.6000\b\b\b\b\b\b\b\b\b\b\b\b\b\b\b\b\b\b\b\b\b\b\b\b\b\b\b\b\b\b\b\b\b\b\b\b\b\b\b\b\b\b\b\b\b\b\b\b\b\b\b\b\b\b\b\b\b\b\b\b\b\b\b\b\b\b\b\b\b\b\b\b\b\b\b\b\b\b\b\r",
      "398/398 [==============================] - 0s 49us/step - loss: 0.6709 - acc: 0.6055\n",
      "Epoch 21/100\n",
      "\r",
      " 50/398 [==>...........................] - ETA: 0s - loss: 0.6645 - acc: 0.6200\b\b\b\b\b\b\b\b\b\b\b\b\b\b\b\b\b\b\b\b\b\b\b\b\b\b\b\b\b\b\b\b\b\b\b\b\b\b\b\b\b\b\b\b\b\b\b\b\b\b\b\b\b\b\b\b\b\b\b\b\b\b\b\b\b\b\b\b\b\b\b\b\b\b\b\b\b\b\b\r",
      "398/398 [==============================] - 0s 49us/step - loss: 0.6708 - acc: 0.6055\n",
      "Epoch 22/100\n",
      "\r",
      " 50/398 [==>...........................] - ETA: 0s - loss: 0.6554 - acc: 0.6400\b\b\b\b\b\b\b\b\b\b\b\b\b\b\b\b\b\b\b\b\b\b\b\b\b\b\b\b\b\b\b\b\b\b\b\b\b\b\b\b\b\b\b\b\b\b\b\b\b\b\b\b\b\b\b\b\b\b\b\b\b\b\b\b\b\b\b\b\b\b\b\b\b\b\b\b\b\b\b\r",
      "398/398 [==============================] - 0s 47us/step - loss: 0.6709 - acc: 0.6055\n",
      "Epoch 23/100\n",
      "\r",
      " 50/398 [==>...........................] - ETA: 0s - loss: 0.7265 - acc: 0.4800\b\b\b\b\b\b\b\b\b\b\b\b\b\b\b\b\b\b\b\b\b\b\b\b\b\b\b\b\b\b\b\b\b\b\b\b\b\b\b\b\b\b\b\b\b\b\b\b\b\b\b\b\b\b\b\b\b\b\b\b\b\b\b\b\b\b\b\b\b\b\b\b\b\b\b\b\b\b\b\r",
      "398/398 [==============================] - 0s 48us/step - loss: 0.6709 - acc: 0.6055\n",
      "Epoch 24/100\n",
      "\r",
      " 50/398 [==>...........................] - ETA: 0s - loss: 0.6910 - acc: 0.5600\b\b\b\b\b\b\b\b\b\b\b\b\b\b\b\b\b\b\b\b\b\b\b\b\b\b\b\b\b\b\b\b\b\b\b\b\b\b\b\b\b\b\b\b\b\b\b\b\b\b\b\b\b\b\b\b\b\b\b\b\b\b\b\b\b\b\b\b\b\b\b\b\b\b\b\b\b\b\b\r",
      "398/398 [==============================] - 0s 48us/step - loss: 0.6708 - acc: 0.6055\n",
      "Epoch 25/100\n",
      "\r",
      " 50/398 [==>...........................] - ETA: 0s - loss: 0.6730 - acc: 0.6000\b\b\b\b\b\b\b\b\b\b\b\b\b\b\b\b\b\b\b\b\b\b\b\b\b\b\b\b\b\b\b\b\b\b\b\b\b\b\b\b\b\b\b\b\b\b\b\b\b\b\b\b\b\b\b\b\b\b\b\b\b\b\b\b\b\b\b\b\b\b\b\b\b\b\b\b\b\b\b\r",
      "398/398 [==============================] - 0s 52us/step - loss: 0.6708 - acc: 0.6055\n",
      "Epoch 26/100\n",
      "\r",
      " 50/398 [==>...........................] - ETA: 0s - loss: 0.6906 - acc: 0.5600\b\b\b\b\b\b\b\b\b\b\b\b\b\b\b\b\b\b\b\b\b\b\b\b\b\b\b\b\b\b\b\b\b\b\b\b\b\b\b\b\b\b\b\b\b\b\b\b\b\b\b\b\b\b\b\b\b\b\b\b\b\b\b\b\b\b\b\b\b\b\b\b\b\b\b\b\b\b\b\r",
      "398/398 [==============================] - 0s 49us/step - loss: 0.6708 - acc: 0.6055\n",
      "Epoch 27/100\n",
      "\r",
      " 50/398 [==>...........................] - ETA: 0s - loss: 0.6994 - acc: 0.5400\b\b\b\b\b\b\b\b\b\b\b\b\b\b\b\b\b\b\b\b\b\b\b\b\b\b\b\b\b\b\b\b\b\b\b\b\b\b\b\b\b\b\b\b\b\b\b\b\b\b\b\b\b\b\b\b\b\b\b\b\b\b\b\b\b\b\b\b\b\b\b\b\b\b\b\b\b\b\b\r",
      "398/398 [==============================] - 0s 45us/step - loss: 0.6708 - acc: 0.6055\n",
      "Epoch 28/100\n",
      "\r",
      " 50/398 [==>...........................] - ETA: 0s - loss: 0.6641 - acc: 0.6200\b\b\b\b\b\b\b\b\b\b\b\b\b\b\b\b\b\b\b\b\b\b\b\b\b\b\b\b\b\b\b\b\b\b\b\b\b\b\b\b\b\b\b\b\b\b\b\b\b\b\b\b\b\b\b\b\b\b\b\b\b\b\b\b\b\b\b\b\b\b\b\b\b\b\b\b\b\b\b\r",
      "398/398 [==============================] - 0s 45us/step - loss: 0.6708 - acc: 0.6055\n",
      "Epoch 29/100\n",
      "\r",
      " 50/398 [==>...........................] - ETA: 0s - loss: 0.7691 - acc: 0.3800\b\b\b\b\b\b\b\b\b\b\b\b\b\b\b\b\b\b\b\b\b\b\b\b\b\b\b\b\b\b\b\b\b\b\b\b\b\b\b\b\b\b\b\b\b\b\b\b\b\b\b\b\b\b\b\b\b\b\b\b\b\b\b\b\b\b\b\b\b\b\b\b\b\b\b\b\b\b\b\r",
      "398/398 [==============================] - 0s 47us/step - loss: 0.6710 - acc: 0.6055\n",
      "Epoch 30/100\n",
      "\r",
      " 50/398 [==>...........................] - ETA: 0s - loss: 0.7258 - acc: 0.4800\b\b\b\b\b\b\b\b\b\b\b\b\b\b\b\b\b\b\b\b\b\b\b\b\b\b\b\b\b\b\b\b\b\b\b\b\b\b\b\b\b\b\b\b\b\b\b\b\b\b\b\b\b\b\b\b\b\b\b\b\b\b\b\b\b\b\b\b\b\b\b\b\b\b\b\b\b\b\b\r",
      "398/398 [==============================] - 0s 50us/step - loss: 0.6708 - acc: 0.6055\n",
      "Epoch 31/100\n",
      "\r",
      " 50/398 [==>...........................] - ETA: 0s - loss: 0.7080 - acc: 0.5200\b\b\b\b\b\b\b\b\b\b\b\b\b\b\b\b\b\b\b\b\b\b\b\b\b\b\b\b\b\b\b\b\b\b\b\b\b\b\b\b\b\b\b\b\b\b\b\b\b\b\b\b\b\b\b\b\b\b\b\b\b\b\b\b\b\b\b\b\b\b\b\b\b\b\b\b\b\b\b\r",
      "398/398 [==============================] - 0s 48us/step - loss: 0.6709 - acc: 0.6055\n",
      "Epoch 32/100\n",
      "\r",
      " 50/398 [==>...........................] - ETA: 0s - loss: 0.6992 - acc: 0.5400\b\b\b\b\b\b\b\b\b\b\b\b\b\b\b\b\b\b\b\b\b\b\b\b\b\b\b\b\b\b\b\b\b\b\b\b\b\b\b\b\b\b\b\b\b\b\b\b\b\b\b\b\b\b\b\b\b\b\b\b\b\b\b\b\b\b\b\b\b\b\b\b\b\b\b\b\b\b\b\r",
      "398/398 [==============================] - 0s 54us/step - loss: 0.6708 - acc: 0.6055\n",
      "Epoch 33/100\n",
      "\r",
      " 50/398 [==>...........................] - ETA: 0s - loss: 0.6995 - acc: 0.5400\b\b\b\b\b\b\b\b\b\b\b\b\b\b\b\b\b\b\b\b\b\b\b\b\b\b\b\b\b\b\b\b\b\b\b\b\b\b\b\b\b\b\b\b\b\b\b\b\b\b\b\b\b\b\b\b\b\b\b\b\b\b\b\b\b\b\b\b\b\b\b\b\b\b\b\b\b\b\b\r",
      "398/398 [==============================] - 0s 61us/step - loss: 0.6709 - acc: 0.6055\n",
      "Epoch 34/100\n",
      "\r",
      " 50/398 [==>...........................] - ETA: 0s - loss: 0.6992 - acc: 0.5400\b\b\b\b\b\b\b\b\b\b\b\b\b\b\b\b\b\b\b\b\b\b\b\b\b\b\b\b\b\b\b\b\b\b\b\b\b\b\b\b\b\b\b\b\b\b\b\b\b\b\b\b\b\b\b\b\b\b\b\b\b\b\b\b\b\b\b\b\b\b\b\b\b\b\b\b\b\b\b\r",
      "398/398 [==============================] - 0s 47us/step - loss: 0.6708 - acc: 0.6055\n",
      "Epoch 35/100\n",
      "\r",
      " 50/398 [==>...........................] - ETA: 0s - loss: 0.6556 - acc: 0.6400\b\b\b\b\b\b\b\b\b\b\b\b\b\b\b\b\b\b\b\b\b\b\b\b\b\b\b\b\b\b\b\b\b\b\b\b\b\b\b\b\b\b\b\b\b\b\b\b\b\b\b\b\b\b\b\b\b\b\b\b\b\b\b\b\b\b\b\b\b\b\b\b\b\b\b\b\b\b\b\r",
      "398/398 [==============================] - 0s 52us/step - loss: 0.6708 - acc: 0.6055\n",
      "Epoch 36/100\n",
      "\r",
      " 50/398 [==>...........................] - ETA: 0s - loss: 0.6991 - acc: 0.5400\b\b\b\b\b\b\b\b\b\b\b\b\b\b\b\b\b\b\b\b\b\b\b\b\b\b\b\b\b\b\b\b\b\b\b\b\b\b\b\b\b\b\b\b\b\b\b\b\b\b\b\b\b\b\b\b\b\b\b\b\b\b\b\b\b\b\b\b\b\b\b\b\b\b\b\b\b\b\b\r",
      "398/398 [==============================] - 0s 55us/step - loss: 0.6708 - acc: 0.6055\n",
      "Epoch 37/100\n",
      "\r",
      " 50/398 [==>...........................] - ETA: 0s - loss: 0.6818 - acc: 0.5800\b\b\b\b\b\b\b\b\b\b\b\b\b\b\b\b\b\b\b\b\b\b\b\b\b\b\b\b\b\b\b\b\b\b\b\b\b\b\b\b\b\b\b\b\b\b\b\b\b\b\b\b\b\b\b\b\b\b\b\b\b\b\b\b\b\b\b\b\b\b\b\b\b\b\b\b\b\b\b\r",
      "398/398 [==============================] - 0s 45us/step - loss: 0.6708 - acc: 0.6055\n",
      "Epoch 38/100\n",
      "\r",
      " 50/398 [==>...........................] - ETA: 0s - loss: 0.6731 - acc: 0.6000\b\b\b\b\b\b\b\b\b\b\b\b\b\b\b\b\b\b\b\b\b\b\b\b\b\b\b\b\b\b\b\b\b\b\b\b\b\b\b\b\b\b\b\b\b\b\b\b\b\b\b\b\b\b\b\b\b\b\b\b\b\b\b\b\b\b\b\b\b\b\b\b\b\b\b\b\b\b\b\r",
      "398/398 [==============================] - 0s 45us/step - loss: 0.6708 - acc: 0.6055\n",
      "Epoch 39/100\n",
      "\r",
      " 50/398 [==>...........................] - ETA: 0s - loss: 0.7075 - acc: 0.5200\b\b\b\b\b\b\b\b\b\b\b\b\b\b\b\b\b\b\b\b\b\b\b\b\b\b\b\b\b\b\b\b\b\b\b\b\b\b\b\b\b\b\b\b\b\b\b\b\b\b\b\b\b\b\b\b\b\b\b\b\b\b\b\b\b\b\b\b\b\b\b\b\b\b\b\b\b\b\b\r",
      "398/398 [==============================] - 0s 48us/step - loss: 0.6708 - acc: 0.6055\n",
      "Epoch 40/100\n",
      "\r",
      " 50/398 [==>...........................] - ETA: 0s - loss: 0.6385 - acc: 0.6800\b\b\b\b\b\b\b\b\b\b\b\b\b\b\b\b\b\b\b\b\b\b\b\b\b\b\b\b\b\b\b\b\b\b\b\b\b\b\b\b\b\b\b\b\b\b\b\b\b\b\b\b\b\b\b\b\b\b\b\b\b\b\b\b\b\b\b\b\b\b\b\b\b\b\b\b\b\b\b\r",
      "398/398 [==============================] - 0s 46us/step - loss: 0.6709 - acc: 0.6055\n",
      "Epoch 41/100\n",
      "\r",
      " 50/398 [==>...........................] - ETA: 0s - loss: 0.6212 - acc: 0.7200\b\b\b\b\b\b\b\b\b\b\b\b\b\b\b\b\b\b\b\b\b\b\b\b\b\b\b\b\b\b\b\b\b\b\b\b\b\b\b\b\b\b\b\b\b\b\b\b\b\b\b\b\b\b\b\b\b\b\b\b\b\b\b\b\b\b\b\b\b\b\b\b\b\b\b\b\b\b\b\r",
      "398/398 [==============================] - 0s 47us/step - loss: 0.6708 - acc: 0.6055\n",
      "Epoch 42/100\n",
      "\r",
      " 50/398 [==>...........................] - ETA: 0s - loss: 0.6815 - acc: 0.5800\b\b\b\b\b\b\b\b\b\b\b\b\b\b\b\b\b\b\b\b\b\b\b\b\b\b\b\b\b\b\b\b\b\b\b\b\b\b\b\b\b\b\b\b\b\b\b\b\b\b\b\b\b\b\b\b\b\b\b\b\b\b\b\b\b\b\b\b\b\b\b\b\b\b\b\b\b\b\b\r",
      "398/398 [==============================] - 0s 52us/step - loss: 0.6708 - acc: 0.6055\n",
      "Epoch 43/100\n",
      "\r",
      " 50/398 [==>...........................] - ETA: 0s - loss: 0.6472 - acc: 0.6600\b\b\b\b\b\b\b\b\b\b\b\b\b\b\b\b\b\b\b\b\b\b\b\b\b\b\b\b\b\b\b\b\b\b\b\b\b\b\b\b\b\b\b\b\b\b\b\b\b\b\b\b\b\b\b\b\b\b\b\b\b\b\b\b\b\b\b\b\b\b\b\b\b\b\b\b\b\b\b\r",
      "398/398 [==============================] - 0s 48us/step - loss: 0.6708 - acc: 0.6055\n",
      "Epoch 44/100\n",
      "\r",
      " 50/398 [==>...........................] - ETA: 0s - loss: 0.6988 - acc: 0.5400\b\b\b\b\b\b\b\b\b\b\b\b\b\b\b\b\b\b\b\b\b\b\b\b\b\b\b\b\b\b\b\b\b\b\b\b\b\b\b\b\b\b\b\b\b\b\b\b\b\b\b\b\b\b\b\b\b\b\b\b\b\b\b\b\b\b\b\b\b\b\b\b\b\b\b\b\b\b\b\r",
      "398/398 [==============================] - 0s 53us/step - loss: 0.6708 - acc: 0.6055\n",
      "Epoch 45/100\n",
      "\r",
      " 50/398 [==>...........................] - ETA: 0s - loss: 0.6906 - acc: 0.5600\b\b\b\b\b\b\b\b\b\b\b\b\b\b\b\b\b\b\b\b\b\b\b\b\b\b\b\b\b\b\b\b\b\b\b\b\b\b\b\b\b\b\b\b\b\b\b\b\b\b\b\b\b\b\b\b\b\b\b\b\b\b\b\b\b\b\b\b\b\b\b\b\b\b\b\b\b\b\b\r",
      "398/398 [==============================] - 0s 49us/step - loss: 0.6709 - acc: 0.6055\n",
      "Epoch 46/100\n",
      "\r",
      " 50/398 [==>...........................] - ETA: 0s - loss: 0.6731 - acc: 0.6000\b\b\b\b\b\b\b\b\b\b\b\b\b\b\b\b\b\b\b\b\b\b\b\b\b\b\b\b\b\b\b\b\b\b\b\b\b\b\b\b\b\b\b\b\b\b\b\b\b\b\b\b\b\b\b\b\b\b\b\b\b\b\b\b\b\b\b\b\b\b\b\b\b\b\b\b\b\b\b\r",
      "398/398 [==============================] - 0s 47us/step - loss: 0.6709 - acc: 0.6055\n",
      "Epoch 47/100\n",
      "\r",
      " 50/398 [==>...........................] - ETA: 0s - loss: 0.6388 - acc: 0.6800\b\b\b\b\b\b\b\b\b\b\b\b\b\b\b\b\b\b\b\b\b\b\b\b\b\b\b\b\b\b\b\b\b\b\b\b\b\b\b\b\b\b\b\b\b\b\b\b\b\b\b\b\b\b\b\b\b\b\b\b\b\b\b\b\b\b\b\b\b\b\b\b\b\b\b\b\b\b\b\r",
      "398/398 [==============================] - 0s 49us/step - loss: 0.6708 - acc: 0.6055\n",
      "Epoch 48/100\n",
      "\r",
      " 50/398 [==>...........................] - ETA: 0s - loss: 0.6817 - acc: 0.5800\b\b\b\b\b\b\b\b\b\b\b\b\b\b\b\b\b\b\b\b\b\b\b\b\b\b\b\b\b\b\b\b\b\b\b\b\b\b\b\b\b\b\b\b\b\b\b\b\b\b\b\b\b\b\b\b\b\b\b\b\b\b\b\b\b\b\b\b\b\b\b\b\b\b\b\b\b\b\b\r",
      "398/398 [==============================] - 0s 70us/step - loss: 0.6708 - acc: 0.6055\n",
      "Epoch 49/100\n",
      "\r",
      " 50/398 [==>...........................] - ETA: 0s - loss: 0.6215 - acc: 0.7200\b\b\b\b\b\b\b\b\b\b\b\b\b\b\b\b\b\b\b\b\b\b\b\b\b\b\b\b\b\b\b\b\b\b\b\b\b\b\b\b\b\b\b\b\b\b\b\b\b\b\b\b\b\b\b\b\b\b\b\b\b\b\b\b\b\b\b\b\b\b\b\b\b\b\b\b\b\b\b\r",
      "398/398 [==============================] - 0s 57us/step - loss: 0.6708 - acc: 0.6055\n",
      "Epoch 50/100\n",
      "\r",
      " 50/398 [==>...........................] - ETA: 0s - loss: 0.6903 - acc: 0.5600\b\b\b\b\b\b\b\b\b\b\b\b\b\b\b\b\b\b\b\b\b\b\b\b\b\b\b\b\b\b\b\b\b\b\b\b\b\b\b\b\b\b\b\b\b\b\b\b\b\b\b\b\b\b\b\b\b\b\b\b\b\b\b\b\b\b\b\b\b\b\b\b\b\b\b\b\b\b\b\r",
      "398/398 [==============================] - 0s 53us/step - loss: 0.6708 - acc: 0.6055\n",
      "Epoch 51/100\n",
      "\r",
      " 50/398 [==>...........................] - ETA: 0s - loss: 0.6473 - acc: 0.6600\b\b\b\b\b\b\b\b\b\b\b\b\b\b\b\b\b\b\b\b\b\b\b\b\b\b\b\b\b\b\b\b\b\b\b\b\b\b\b\b\b\b\b\b\b\b\b\b\b\b\b\b\b\b\b\b\b\b\b\b\b\b\b\b\b\b\b\b\b\b\b\b\b\b\b\b\b\b\b\r",
      "398/398 [==============================] - 0s 56us/step - loss: 0.6708 - acc: 0.6055\n",
      "Epoch 52/100\n",
      "\r",
      " 50/398 [==>...........................] - ETA: 0s - loss: 0.6817 - acc: 0.5800\b\b\b\b\b\b\b\b\b\b\b\b\b\b\b\b\b\b\b\b\b\b\b\b\b\b\b\b\b\b\b\b\b\b\b\b\b\b\b\b\b\b\b\b\b\b\b\b\b\b\b\b\b\b\b\b\b\b\b\b\b\b\b\b\b\b\b\b\b\b\b\b\b\b\b\b\b\b\b\r",
      "398/398 [==============================] - 0s 56us/step - loss: 0.6708 - acc: 0.6055\n",
      "Epoch 53/100\n",
      "\r",
      " 50/398 [==>...........................] - ETA: 0s - loss: 0.6989 - acc: 0.5400\b\b\b\b\b\b\b\b\b\b\b\b\b\b\b\b\b\b\b\b\b\b\b\b\b\b\b\b\b\b\b\b\b\b\b\b\b\b\b\b\b\b\b\b\b\b\b\b\b\b\b\b\b\b\b\b\b\b\b\b\b\b\b\b\b\b\b\b\b\b\b\b\b\b\b\b\b\b\b\r",
      "398/398 [==============================] - 0s 62us/step - loss: 0.6708 - acc: 0.6055\n",
      "Epoch 54/100\n",
      "\r",
      " 50/398 [==>...........................] - ETA: 0s - loss: 0.6473 - acc: 0.6600\b\b\b\b\b\b\b\b\b\b\b\b\b\b\b\b\b\b\b\b\b\b\b\b\b\b\b\b\b\b\b\b\b\b\b\b\b\b\b\b\b\b\b\b\b\b\b\b\b\b\b\b\b\b\b\b\b\b\b\b\b\b\b\b\b\b\b\b\b\b\b\b\b\b\b\b\b\b\b\r",
      "398/398 [==============================] - 0s 48us/step - loss: 0.6708 - acc: 0.6055\n",
      "Epoch 55/100\n",
      "\r",
      " 50/398 [==>...........................] - ETA: 0s - loss: 0.7078 - acc: 0.5200\b\b\b\b\b\b\b\b\b\b\b\b\b\b\b\b\b\b\b\b\b\b\b\b\b\b\b\b\b\b\b\b\b\b\b\b\b\b\b\b\b\b\b\b\b\b\b\b\b\b\b\b\b\b\b\b\b\b\b\b\b\b\b\b\b\b\b\b\b\b\b\b\b\b\b\b\b\b\b\r",
      "398/398 [==============================] - 0s 60us/step - loss: 0.6708 - acc: 0.6055\n",
      "Epoch 56/100\n",
      "\r",
      " 50/398 [==>...........................] - ETA: 0s - loss: 0.5956 - acc: 0.7800\b\b\b\b\b\b\b\b\b\b\b\b\b\b\b\b\b\b\b\b\b\b\b\b\b\b\b\b\b\b\b\b\b\b\b\b\b\b\b\b\b\b\b\b\b\b\b\b\b\b\b\b\b\b\b\b\b\b\b\b\b\b\b\b\b\b\b\b\b\b\b\b\b\b\b\b\b\b\b\r",
      "398/398 [==============================] - 0s 56us/step - loss: 0.6709 - acc: 0.6055\n",
      "Epoch 57/100\n",
      "\r",
      " 50/398 [==>...........................] - ETA: 0s - loss: 0.6902 - acc: 0.5600\b\b\b\b\b\b\b\b\b\b\b\b\b\b\b\b\b\b\b\b\b\b\b\b\b\b\b\b\b\b\b\b\b\b\b\b\b\b\b\b\b\b\b\b\b\b\b\b\b\b\b\b\b\b\b\b\b\b\b\b\b\b\b\b\b\b\b\b\b\b\b\b\b\b\b\b\b\b\b\r",
      "398/398 [==============================] - 0s 55us/step - loss: 0.6708 - acc: 0.6055\n",
      "Epoch 58/100\n",
      "\r",
      " 50/398 [==>...........................] - ETA: 0s - loss: 0.7074 - acc: 0.5200\b\b\b\b\b\b\b\b\b\b\b\b\b\b\b\b\b\b\b\b\b\b\b\b\b\b\b\b\b\b\b\b\b\b\b\b\b\b\b\b\b\b\b\b\b\b\b\b\b\b\b\b\b\b\b\b\b\b\b\b\b\b\b\b\b\b\b\b\b\b\b\b\b\b\b\b\b\b\b\r",
      "398/398 [==============================] - 0s 51us/step - loss: 0.6709 - acc: 0.6055\n",
      "Epoch 59/100\n",
      "\r",
      " 50/398 [==>...........................] - ETA: 0s - loss: 0.6729 - acc: 0.6000\b\b\b\b\b\b\b\b\b\b\b\b\b\b\b\b\b\b\b\b\b\b\b\b\b\b\b\b\b\b\b\b\b\b\b\b\b\b\b\b\b\b\b\b\b\b\b\b\b\b\b\b\b\b\b\b\b\b\b\b\b\b\b\b\b\b\b\b\b\b\b\b\b\b\b\b\b\b\b\r",
      "398/398 [==============================] - 0s 57us/step - loss: 0.6708 - acc: 0.6055\n",
      "Epoch 60/100\n",
      "\r",
      " 50/398 [==>...........................] - ETA: 0s - loss: 0.6991 - acc: 0.5400\b\b\b\b\b\b\b\b\b\b\b\b\b\b\b\b\b\b\b\b\b\b\b\b\b\b\b\b\b\b\b\b\b\b\b\b\b\b\b\b\b\b\b\b\b\b\b\b\b\b\b\b\b\b\b\b\b\b\b\b\b\b\b\b\b\b\b\b\b\b\b\b\b\b\b\b\b\b\b\r",
      "398/398 [==============================] - 0s 51us/step - loss: 0.6708 - acc: 0.6055\n",
      "Epoch 61/100\n",
      "\r",
      " 50/398 [==>...........................] - ETA: 0s - loss: 0.6902 - acc: 0.5600\b\b\b\b\b\b\b\b\b\b\b\b\b\b\b\b\b\b\b\b\b\b\b\b\b\b\b\b\b\b\b\b\b\b\b\b\b\b\b\b\b\b\b\b\b\b\b\b\b\b\b\b\b\b\b\b\b\b\b\b\b\b\b\b\b\b\b\b\b\b\b\b\b\b\b\b\b\b\b\r",
      "398/398 [==============================] - 0s 54us/step - loss: 0.6708 - acc: 0.6055\n",
      "Epoch 62/100\n",
      "\r",
      " 50/398 [==>...........................] - ETA: 0s - loss: 0.7247 - acc: 0.4800\b\b\b\b\b\b\b\b\b\b\b\b\b\b\b\b\b\b\b\b\b\b\b\b\b\b\b\b\b\b\b\b\b\b\b\b\b\b\b\b\b\b\b\b\b\b\b\b\b\b\b\b\b\b\b\b\b\b\b\b\b\b\b\b\b\b\b\b\b\b\b\b\b\b\b\b\b\b\b\r",
      "398/398 [==============================] - 0s 57us/step - loss: 0.6708 - acc: 0.6055\n",
      "Epoch 63/100\n",
      "\r",
      " 50/398 [==>...........................] - ETA: 0s - loss: 0.7078 - acc: 0.5200\b\b\b\b\b\b\b\b\b\b\b\b\b\b\b\b\b\b\b\b\b\b\b\b\b\b\b\b\b\b\b\b\b\b\b\b\b\b\b\b\b\b\b\b\b\b\b\b\b\b\b\b\b\b\b\b\b\b\b\b\b\b\b\b\b\b\b\b\b\b\b\b\b\b\b\b\b\b\b\r",
      "398/398 [==============================] - 0s 73us/step - loss: 0.6708 - acc: 0.6055\n",
      "Epoch 64/100\n",
      "\r",
      " 50/398 [==>...........................] - ETA: 0s - loss: 0.6648 - acc: 0.6200\b\b\b\b\b\b\b\b\b\b\b\b\b\b\b\b\b\b\b\b\b\b\b\b\b\b\b\b\b\b\b\b\b\b\b\b\b\b\b\b\b\b\b\b\b\b\b\b\b\b\b\b\b\b\b\b\b\b\b\b\b\b\b\b\b\b\b\b\b\b\b\b\b\b\b\b\b\b\b\r",
      "398/398 [==============================] - 0s 55us/step - loss: 0.6708 - acc: 0.6055\n",
      "Epoch 65/100\n",
      "\r",
      " 50/398 [==>...........................] - ETA: 0s - loss: 0.6904 - acc: 0.5600\b\b\b\b\b\b\b\b\b\b\b\b\b\b\b\b\b\b\b\b\b\b\b\b\b\b\b\b\b\b\b\b\b\b\b\b\b\b\b\b\b\b\b\b\b\b\b\b\b\b\b\b\b\b\b\b\b\b\b\b\b\b\b\b\b\b\b\b\b\b\b\b\b\b\b\b\b\b\b\r",
      "398/398 [==============================] - 0s 66us/step - loss: 0.6708 - acc: 0.6055\n",
      "Epoch 66/100\n",
      "\r",
      " 50/398 [==>...........................] - ETA: 0s - loss: 0.6471 - acc: 0.6600\b\b\b\b\b\b\b\b\b\b\b\b\b\b\b\b\b\b\b\b\b\b\b\b\b\b\b\b\b\b\b\b\b\b\b\b\b\b\b\b\b\b\b\b\b\b\b\b\b\b\b\b\b\b\b\b\b\b\b\b\b\b\b\b\b\b\b\b\b\b\b\b\b\b\b\b\b\b\b\r",
      "398/398 [==============================] - 0s 58us/step - loss: 0.6709 - acc: 0.6055\n",
      "Epoch 67/100\n",
      "\r",
      " 50/398 [==>...........................] - ETA: 0s - loss: 0.6473 - acc: 0.6600\b\b\b\b\b\b\b\b\b\b\b\b\b\b\b\b\b\b\b\b\b\b\b\b\b\b\b\b\b\b\b\b\b\b\b\b\b\b\b\b\b\b\b\b\b\b\b\b\b\b\b\b\b\b\b\b\b\b\b\b\b\b\b\b\b\b\b\b\b\b\b\b\b\b\b\b\b\b\b\r",
      "398/398 [==============================] - 0s 55us/step - loss: 0.6708 - acc: 0.6055\n",
      "Epoch 68/100\n",
      "\r",
      " 50/398 [==>...........................] - ETA: 0s - loss: 0.6473 - acc: 0.6600\b\b\b\b\b\b\b\b\b\b\b\b\b\b\b\b\b\b\b\b\b\b\b\b\b\b\b\b\b\b\b\b\b\b\b\b\b\b\b\b\b\b\b\b\b\b\b\b\b\b\b\b\b\b\b\b\b\b\b\b\b\b\b\b\b\b\b\b\b\b\b\b\b\b\b\b\b\b\b\r",
      "398/398 [==============================] - 0s 64us/step - loss: 0.6708 - acc: 0.6055\n",
      "Epoch 69/100\n",
      "\r",
      " 50/398 [==>...........................] - ETA: 0s - loss: 0.6476 - acc: 0.6600\b\b\b\b\b\b\b\b\b\b\b\b\b\b\b\b\b\b\b\b\b\b\b\b\b\b\b\b\b\b\b\b\b\b\b\b\b\b\b\b\b\b\b\b\b\b\b\b\b\b\b\b\b\b\b\b\b\b\b\b\b\b\b\b\b\b\b\b\b\b\b\b\b\b\b\b\b\b\b\r",
      "398/398 [==============================] - 0s 61us/step - loss: 0.6708 - acc: 0.6055\n",
      "Epoch 70/100\n",
      "\r",
      " 50/398 [==>...........................] - ETA: 0s - loss: 0.6647 - acc: 0.6200\b\b\b\b\b\b\b\b\b\b\b\b\b\b\b\b\b\b\b\b\b\b\b\b\b\b\b\b\b\b\b\b\b\b\b\b\b\b\b\b\b\b\b\b\b\b\b\b\b\b\b\b\b\b\b\b\b\b\b\b\b\b\b\b\b\b\b\b\b\b\b\b\b\b\b\b\b\b\b\r",
      "398/398 [==============================] - 0s 53us/step - loss: 0.6708 - acc: 0.6055\n",
      "Epoch 71/100\n",
      "\r",
      " 50/398 [==>...........................] - ETA: 0s - loss: 0.6817 - acc: 0.5800\b\b\b\b\b\b\b\b\b\b\b\b\b\b\b\b\b\b\b\b\b\b\b\b\b\b\b\b\b\b\b\b\b\b\b\b\b\b\b\b\b\b\b\b\b\b\b\b\b\b\b\b\b\b\b\b\b\b\b\b\b\b\b\b\b\b\b\b\b\b\b\b\b\b\b\b\b\b\b\r",
      "398/398 [==============================] - 0s 54us/step - loss: 0.6708 - acc: 0.6055\n",
      "Epoch 72/100\n",
      "\r",
      " 50/398 [==>...........................] - ETA: 0s - loss: 0.6472 - acc: 0.6600\b\b\b\b\b\b\b\b\b\b\b\b\b\b\b\b\b\b\b\b\b\b\b\b\b\b\b\b\b\b\b\b\b\b\b\b\b\b\b\b\b\b\b\b\b\b\b\b\b\b\b\b\b\b\b\b\b\b\b\b\b\b\b\b\b\b\b\b\b\b\b\b\b\b\b\b\b\b\b\r",
      "398/398 [==============================] - 0s 54us/step - loss: 0.6708 - acc: 0.6055\n",
      "Epoch 73/100\n",
      "\r",
      " 50/398 [==>...........................] - ETA: 0s - loss: 0.7077 - acc: 0.5200\b\b\b\b\b\b\b\b\b\b\b\b\b\b\b\b\b\b\b\b\b\b\b\b\b\b\b\b\b\b\b\b\b\b\b\b\b\b\b\b\b\b\b\b\b\b\b\b\b\b\b\b\b\b\b\b\b\b\b\b\b\b\b\b\b\b\b\b\b\b\b\b\b\b\b\b\b\b\b\r",
      "398/398 [==============================] - 0s 55us/step - loss: 0.6708 - acc: 0.6055\n",
      "Epoch 74/100\n",
      "\r",
      " 50/398 [==>...........................] - ETA: 0s - loss: 0.6388 - acc: 0.6800\b\b\b\b\b\b\b\b\b\b\b\b\b\b\b\b\b\b\b\b\b\b\b\b\b\b\b\b\b\b\b\b\b\b\b\b\b\b\b\b\b\b\b\b\b\b\b\b\b\b\b\b\b\b\b\b\b\b\b\b\b\b\b\b\b\b\b\b\b\b\b\b\b\b\b\b\b\b\b\r",
      "398/398 [==============================] - 0s 64us/step - loss: 0.6708 - acc: 0.6055\n",
      "Epoch 75/100\n",
      "\r",
      " 50/398 [==>...........................] - ETA: 0s - loss: 0.6562 - acc: 0.6400\b\b\b\b\b\b\b\b\b\b\b\b\b\b\b\b\b\b\b\b\b\b\b\b\b\b\b\b\b\b\b\b\b\b\b\b\b\b\b\b\b\b\b\b\b\b\b\b\b\b\b\b\b\b\b\b\b\b\b\b\b\b\b\b\b\b\b\b\b\b\b\b\b\b\b\b\b\b\b\r",
      "398/398 [==============================] - 0s 55us/step - loss: 0.6708 - acc: 0.6055\n",
      "Epoch 76/100\n",
      "\r",
      " 50/398 [==>...........................] - ETA: 0s - loss: 0.7159 - acc: 0.5000\b\b\b\b\b\b\b\b\b\b\b\b\b\b\b\b\b\b\b\b\b\b\b\b\b\b\b\b\b\b\b\b\b\b\b\b\b\b\b\b\b\b\b\b\b\b\b\b\b\b\b\b\b\b\b\b\b\b\b\b\b\b\b\b\b\b\b\b\b\b\b\b\b\b\b\b\b\b\b\r",
      "398/398 [==============================] - 0s 62us/step - loss: 0.6708 - acc: 0.6055\n",
      "Epoch 77/100\n",
      "\r",
      " 50/398 [==>...........................] - ETA: 0s - loss: 0.6558 - acc: 0.6400\b\b\b\b\b\b\b\b\b\b\b\b\b\b\b\b\b\b\b\b\b\b\b\b\b\b\b\b\b\b\b\b\b\b\b\b\b\b\b\b\b\b\b\b\b\b\b\b\b\b\b\b\b\b\b\b\b\b\b\b\b\b\b\b\b\b\b\b\b\b\b\b\b\b\b\b\b\b\b\r",
      "398/398 [==============================] - 0s 53us/step - loss: 0.6708 - acc: 0.6055\n",
      "Epoch 78/100\n",
      "\r",
      " 50/398 [==>...........................] - ETA: 0s - loss: 0.6562 - acc: 0.6400\b\b\b\b\b\b\b\b\b\b\b\b\b\b\b\b\b\b\b\b\b\b\b\b\b\b\b\b\b\b\b\b\b\b\b\b\b\b\b\b\b\b\b\b\b\b\b\b\b\b\b\b\b\b\b\b\b\b\b\b\b\b\b\b\b\b\b\b\b\b\b\b\b\b\b\b\b\b\b\r",
      "398/398 [==============================] - 0s 54us/step - loss: 0.6708 - acc: 0.6055\n",
      "Epoch 79/100\n",
      "\r",
      " 50/398 [==>...........................] - ETA: 0s - loss: 0.6302 - acc: 0.7000\b\b\b\b\b\b\b\b\b\b\b\b\b\b\b\b\b\b\b\b\b\b\b\b\b\b\b\b\b\b\b\b\b\b\b\b\b\b\b\b\b\b\b\b\b\b\b\b\b\b\b\b\b\b\b\b\b\b\b\b\b\b\b\b\b\b\b\b\b\b\b\b\b\b\b\b\b\b\b\r",
      "398/398 [==============================] - 0s 52us/step - loss: 0.6708 - acc: 0.6055\n",
      "Epoch 80/100\n",
      "\r",
      " 50/398 [==>...........................] - ETA: 0s - loss: 0.7502 - acc: 0.4200\b\b\b\b\b\b\b\b\b\b\b\b\b\b\b\b\b\b\b\b\b\b\b\b\b\b\b\b\b\b\b\b\b\b\b\b\b\b\b\b\b\b\b\b\b\b\b\b\b\b\b\b\b\b\b\b\b\b\b\b\b\b\b\b\b\b\b\b\b\b\b\b\b\b\b\b\b\b\b\r",
      "398/398 [==============================] - 0s 67us/step - loss: 0.6709 - acc: 0.6055\n",
      "Epoch 81/100\n",
      "\r",
      " 50/398 [==>...........................] - ETA: 0s - loss: 0.6648 - acc: 0.6200\b\b\b\b\b\b\b\b\b\b\b\b\b\b\b\b\b\b\b\b\b\b\b\b\b\b\b\b\b\b\b\b\b\b\b\b\b\b\b\b\b\b\b\b\b\b\b\b\b\b\b\b\b\b\b\b\b\b\b\b\b\b\b\b\b\b\b\b\b\b\b\b\b\b\b\b\b\b\b\r",
      "398/398 [==============================] - 0s 51us/step - loss: 0.6708 - acc: 0.6055\n",
      "Epoch 82/100\n",
      "\r",
      " 50/398 [==>...........................] - ETA: 0s - loss: 0.6817 - acc: 0.5800\b\b\b\b\b\b\b\b\b\b\b\b\b\b\b\b\b\b\b\b\b\b\b\b\b\b\b\b\b\b\b\b\b\b\b\b\b\b\b\b\b\b\b\b\b\b\b\b\b\b\b\b\b\b\b\b\b\b\b\b\b\b\b\b\b\b\b\b\b\b\b\b\b\b\b\b\b\b\b\r",
      "398/398 [==============================] - 0s 55us/step - loss: 0.6708 - acc: 0.6055\n",
      "Epoch 83/100\n",
      "\r",
      " 50/398 [==>...........................] - ETA: 0s - loss: 0.7418 - acc: 0.4400\b\b\b\b\b\b\b\b\b\b\b\b\b\b\b\b\b\b\b\b\b\b\b\b\b\b\b\b\b\b\b\b\b\b\b\b\b\b\b\b\b\b\b\b\b\b\b\b\b\b\b\b\b\b\b\b\b\b\b\b\b\b\b\b\b\b\b\b\b\b\b\b\b\b\b\b\b\b\b\r",
      "398/398 [==============================] - 0s 57us/step - loss: 0.6708 - acc: 0.6055\n",
      "Epoch 84/100\n",
      "\r",
      " 50/398 [==>...........................] - ETA: 0s - loss: 0.6730 - acc: 0.6000\b\b\b\b\b\b\b\b\b\b\b\b\b\b\b\b\b\b\b\b\b\b\b\b\b\b\b\b\b\b\b\b\b\b\b\b\b\b\b\b\b\b\b\b\b\b\b\b\b\b\b\b\b\b\b\b\b\b\b\b\b\b\b\b\b\b\b\b\b\b\b\b\b\b\b\b\b\b\b\r",
      "398/398 [==============================] - 0s 49us/step - loss: 0.6708 - acc: 0.6055\n",
      "Epoch 85/100\n",
      "\r",
      " 50/398 [==>...........................] - ETA: 0s - loss: 0.6902 - acc: 0.5600\b\b\b\b\b\b\b\b\b\b\b\b\b\b\b\b\b\b\b\b\b\b\b\b\b\b\b\b\b\b\b\b\b\b\b\b\b\b\b\b\b\b\b\b\b\b\b\b\b\b\b\b\b\b\b\b\b\b\b\b\b\b\b\b\b\b\b\b\b\b\b\b\b\b\b\b\b\b\b\r",
      "398/398 [==============================] - 0s 53us/step - loss: 0.6708 - acc: 0.6055\n",
      "Epoch 86/100\n",
      "\r",
      " 50/398 [==>...........................] - ETA: 0s - loss: 0.7071 - acc: 0.5200\b\b\b\b\b\b\b\b\b\b\b\b\b\b\b\b\b\b\b\b\b\b\b\b\b\b\b\b\b\b\b\b\b\b\b\b\b\b\b\b\b\b\b\b\b\b\b\b\b\b\b\b\b\b\b\b\b\b\b\b\b\b\b\b\b\b\b\b\b\b\b\b\b\b\b\b\b\b\b\r",
      "398/398 [==============================] - 0s 54us/step - loss: 0.6708 - acc: 0.6055\n",
      "Epoch 87/100\n",
      "\r",
      " 50/398 [==>...........................] - ETA: 0s - loss: 0.6302 - acc: 0.7000\b\b\b\b\b\b\b\b\b\b\b\b\b\b\b\b\b\b\b\b\b\b\b\b\b\b\b\b\b\b\b\b\b\b\b\b\b\b\b\b\b\b\b\b\b\b\b\b\b\b\b\b\b\b\b\b\b\b\b\b\b\b\b\b\b\b\b\b\b\b\b\b\b\b\b\b\b\b\b\r",
      "398/398 [==============================] - 0s 59us/step - loss: 0.6709 - acc: 0.6055\n",
      "Epoch 88/100\n",
      "\r",
      " 50/398 [==>...........................] - ETA: 0s - loss: 0.6388 - acc: 0.6800\b\b\b\b\b\b\b\b\b\b\b\b\b\b\b\b\b\b\b\b\b\b\b\b\b\b\b\b\b\b\b\b\b\b\b\b\b\b\b\b\b\b\b\b\b\b\b\b\b\b\b\b\b\b\b\b\b\b\b\b\b\b\b\b\b\b\b\b\b\b\b\b\b\b\b\b\b\b\b\r",
      "398/398 [==============================] - 0s 55us/step - loss: 0.6708 - acc: 0.6055\n",
      "Epoch 89/100\n",
      "\r",
      " 50/398 [==>...........................] - ETA: 0s - loss: 0.6386 - acc: 0.6800\b\b\b\b\b\b\b\b\b\b\b\b\b\b\b\b\b\b\b\b\b\b\b\b\b\b\b\b\b\b\b\b\b\b\b\b\b\b\b\b\b\b\b\b\b\b\b\b\b\b\b\b\b\b\b\b\b\b\b\b\b\b\b\b\b\b\b\b\b\b\b\b\b\b\b\b\b\b\b\r",
      "398/398 [==============================] - 0s 53us/step - loss: 0.6708 - acc: 0.6055\n",
      "Epoch 90/100\n",
      "\r",
      " 50/398 [==>...........................] - ETA: 0s - loss: 0.6472 - acc: 0.6600\b\b\b\b\b\b\b\b\b\b\b\b\b\b\b\b\b\b\b\b\b\b\b\b\b\b\b\b\b\b\b\b\b\b\b\b\b\b\b\b\b\b\b\b\b\b\b\b\b\b\b\b\b\b\b\b\b\b\b\b\b\b\b\b\b\b\b\b\b\b\b\b\b\b\b\b\b\b\b\r",
      "398/398 [==============================] - 0s 53us/step - loss: 0.6708 - acc: 0.6055\n",
      "Epoch 91/100\n",
      "\r",
      " 50/398 [==>...........................] - ETA: 0s - loss: 0.6902 - acc: 0.5600\b\b\b\b\b\b\b\b\b\b\b\b\b\b\b\b\b\b\b\b\b\b\b\b\b\b\b\b\b\b\b\b\b\b\b\b\b\b\b\b\b\b\b\b\b\b\b\b\b\b\b\b\b\b\b\b\b\b\b\b\b\b\b\b\b\b\b\b\b\b\b\b\b\b\b\b\b\b\b\r",
      "398/398 [==============================] - 0s 52us/step - loss: 0.6708 - acc: 0.6055\n",
      "Epoch 92/100\n",
      "\r",
      " 50/398 [==>...........................] - ETA: 0s - loss: 0.7075 - acc: 0.5200\b\b\b\b\b\b\b\b\b\b\b\b\b\b\b\b\b\b\b\b\b\b\b\b\b\b\b\b\b\b\b\b\b\b\b\b\b\b\b\b\b\b\b\b\b\b\b\b\b\b\b\b\b\b\b\b\b\b\b\b\b\b\b\b\b\b\b\b\b\b\b\b\b\b\b\b\b\b\b\r",
      "398/398 [==============================] - 0s 56us/step - loss: 0.6708 - acc: 0.6055\n",
      "Epoch 93/100\n",
      "\r",
      " 50/398 [==>...........................] - ETA: 0s - loss: 0.6994 - acc: 0.5400\b\b\b\b\b\b\b\b\b\b\b\b\b\b\b\b\b\b\b\b\b\b\b\b\b\b\b\b\b\b\b\b\b\b\b\b\b\b\b\b\b\b\b\b\b\b\b\b\b\b\b\b\b\b\b\b\b\b\b\b\b\b\b\b\b\b\b\b\b\b\b\b\b\b\b\b\b\b\b\r",
      "398/398 [==============================] - 0s 59us/step - loss: 0.6708 - acc: 0.6055\n",
      "Epoch 94/100\n",
      "\r",
      " 50/398 [==>...........................] - ETA: 0s - loss: 0.6473 - acc: 0.6600\b\b\b\b\b\b\b\b\b\b\b\b\b\b\b\b\b\b\b\b\b\b\b\b\b\b\b\b\b\b\b\b\b\b\b\b\b\b\b\b\b\b\b\b\b\b\b\b\b\b\b\b\b\b\b\b\b\b\b\b\b\b\b\b\b\b\b\b\b\b\b\b\b\b\b\b\b\b\b\r",
      "398/398 [==============================] - 0s 57us/step - loss: 0.6708 - acc: 0.6055\n",
      "Epoch 95/100\n",
      "\r",
      " 50/398 [==>...........................] - ETA: 0s - loss: 0.6645 - acc: 0.6200\b\b\b\b\b\b\b\b\b\b\b\b\b\b\b\b\b\b\b\b\b\b\b\b\b\b\b\b\b\b\b\b\b\b\b\b\b\b\b\b\b\b\b\b\b\b\b\b\b\b\b\b\b\b\b\b\b\b\b\b\b\b\b\b\b\b\b\b\b\b\b\b\b\b\b\b\b\b\b\r",
      "398/398 [==============================] - 0s 54us/step - loss: 0.6707 - acc: 0.6055\n",
      "Epoch 96/100\n",
      "\r",
      " 50/398 [==>...........................] - ETA: 0s - loss: 0.6734 - acc: 0.6000\b\b\b\b\b\b\b\b\b\b\b\b\b\b\b\b\b\b\b\b\b\b\b\b\b\b\b\b\b\b\b\b\b\b\b\b\b\b\b\b\b\b\b\b\b\b\b\b\b\b\b\b\b\b\b\b\b\b\b\b\b\b\b\b\b\b\b\b\b\b\b\b\b\b\b\b\b\b\b\r",
      "398/398 [==============================] - 0s 47us/step - loss: 0.6708 - acc: 0.6055\n",
      "Epoch 97/100\n",
      "\r",
      " 50/398 [==>...........................] - ETA: 0s - loss: 0.7245 - acc: 0.4800\b\b\b\b\b\b\b\b\b\b\b\b\b\b\b\b\b\b\b\b\b\b\b\b\b\b\b\b\b\b\b\b\b\b\b\b\b\b\b\b\b\b\b\b\b\b\b\b\b\b\b\b\b\b\b\b\b\b\b\b\b\b\b\b\b\b\b\b\b\b\b\b\b\b\b\b\b\b\b\r",
      "398/398 [==============================] - 0s 55us/step - loss: 0.6708 - acc: 0.6055\n",
      "Epoch 98/100\n",
      "\r",
      " 50/398 [==>...........................] - ETA: 0s - loss: 0.6729 - acc: 0.6000\b\b\b\b\b\b\b\b\b\b\b\b\b\b\b\b\b\b\b\b\b\b\b\b\b\b\b\b\b\b\b\b\b\b\b\b\b\b\b\b\b\b\b\b\b\b\b\b\b\b\b\b\b\b\b\b\b\b\b\b\b\b\b\b\b\b\b\b\b\b\b\b\b\b\b\b\b\b\b\r",
      "398/398 [==============================] - 0s 55us/step - loss: 0.6708 - acc: 0.6055\n",
      "Epoch 99/100\n",
      "\r",
      " 50/398 [==>...........................] - ETA: 0s - loss: 0.6905 - acc: 0.5600\b\b\b\b\b\b\b\b\b\b\b\b\b\b\b\b\b\b\b\b\b\b\b\b\b\b\b\b\b\b\b\b\b\b\b\b\b\b\b\b\b\b\b\b\b\b\b\b\b\b\b\b\b\b\b\b\b\b\b\b\b\b\b\b\b\b\b\b\b\b\b\b\b\b\b\b\b\b\b\r",
      "398/398 [==============================] - 0s 57us/step - loss: 0.6708 - acc: 0.6055\n",
      "Epoch 100/100\n",
      "\r",
      " 50/398 [==>...........................] - ETA: 0s - loss: 0.7076 - acc: 0.5200\b\b\b\b\b\b\b\b\b\b\b\b\b\b\b\b\b\b\b\b\b\b\b\b\b\b\b\b\b\b\b\b\b\b\b\b\b\b\b\b\b\b\b\b\b\b\b\b\b\b\b\b\b\b\b\b\b\b\b\b\b\b\b\b\b\b\b\b\b\b\b\b\b\b\b\b\b\b\b\r",
      "398/398 [==============================] - 0s 59us/step - loss: 0.6709 - acc: 0.6055\n"
     ]
    },
    {
     "data": {
      "text/plain": [
       "<keras.callbacks.History at 0x161909072b0>"
      ]
     },
     "execution_count": 81,
     "metadata": {},
     "output_type": "execute_result"
    }
   ],
   "source": [
    "# Training the model\n",
    "model.fit(X_train, y_train, batch_size = 50, epochs = 100, verbose = 1)"
   ]
  },
  {
   "cell_type": "code",
   "execution_count": 82,
   "metadata": {},
   "outputs": [
    {
     "name": "stdout",
     "output_type": "stream",
     "text": [
      "\r",
      " 32/171 [====>.........................] - ETA: 0s\b\b\b\b\b\b\b\b\b\b\b\b\b\b\b\b\b\b\b\b\b\b\b\b\b\b\b\b\b\b\b\b\b\b\b\b\b\b\b\b\b\b\b\b\b\b\b\b\b\b\r",
      "171/171 [==============================] - 0s 619us/step\n"
     ]
    }
   ],
   "source": [
    "# Evaluation\n",
    "results = model.evaluate(X_test, y_test)"
   ]
  },
  {
   "cell_type": "code",
   "execution_count": 83,
   "metadata": {},
   "outputs": [
    {
     "name": "stdout",
     "output_type": "stream",
     "text": [
      "['loss', 'acc']\n",
      "[0.6395607496562757, 0.6783625724022848]\n"
     ]
    }
   ],
   "source": [
    "print(model.metrics_names)\n",
    "print(results)"
   ]
  },
  {
   "cell_type": "code",
   "execution_count": 84,
   "metadata": {},
   "outputs": [
    {
     "name": "stdout",
     "output_type": "stream",
     "text": [
      "loss:  0.6395607496562757\n",
      "accuracy  0.6783625724022848\n"
     ]
    }
   ],
   "source": [
    "print('loss: ', results[0])\n",
    "print('accuracy ', results[1])"
   ]
  },
  {
   "cell_type": "code",
   "execution_count": 101,
   "metadata": {},
   "outputs": [],
   "source": [
    "predictions = model.predict(X_test[:10])"
   ]
  },
  {
   "cell_type": "code",
   "execution_count": 102,
   "metadata": {},
   "outputs": [
    {
     "data": {
      "text/plain": [
       "array([[0.6055661],\n",
       "       [0.6055661],\n",
       "       [0.6055661],\n",
       "       [0.6055661],\n",
       "       [0.6055661],\n",
       "       [0.6055661],\n",
       "       [0.6055661],\n",
       "       [0.6055661],\n",
       "       [0.6055661],\n",
       "       [0.6055661]], dtype=float32)"
      ]
     },
     "execution_count": 102,
     "metadata": {},
     "output_type": "execute_result"
    }
   ],
   "source": [
    "predictions"
   ]
  },
  {
   "cell_type": "code",
   "execution_count": 103,
   "metadata": {},
   "outputs": [],
   "source": [
    "rounded = [round(x[0]) for x in predictions]"
   ]
  },
  {
   "cell_type": "code",
   "execution_count": 104,
   "metadata": {},
   "outputs": [
    {
     "name": "stdout",
     "output_type": "stream",
     "text": [
      "[1.0, 1.0, 1.0, 1.0, 1.0, 1.0, 1.0, 1.0, 1.0, 1.0]\n"
     ]
    }
   ],
   "source": [
    "print(rounded)"
   ]
  },
  {
   "cell_type": "markdown",
   "metadata": {},
   "source": [
    "#### changing the parameters"
   ]
  },
  {
   "cell_type": "code",
   "execution_count": 114,
   "metadata": {},
   "outputs": [],
   "source": [
    "model.add(Dense(10, input_shape = (30,), activation = 'relu'))\n",
    "model.add(Dense(10, activation = 'relu'))\n",
    "model.add(Dense(10, activation = 'relu'))\n",
    "model.add(Dense(1, activation = 'sigmoid'))"
   ]
  },
  {
   "cell_type": "code",
   "execution_count": 121,
   "metadata": {},
   "outputs": [],
   "source": [
    "model.compile(loss='binary_crossentropy', optimizer = 'adam', metrics=['accuracy'])"
   ]
  },
  {
   "cell_type": "code",
   "execution_count": 122,
   "metadata": {},
   "outputs": [
    {
     "name": "stdout",
     "output_type": "stream",
     "text": [
      "_________________________________________________________________\n",
      "Layer (type)                 Output Shape              Param #   \n",
      "=================================================================\n",
      "dense_33 (Dense)             (None, 10)                310       \n",
      "_________________________________________________________________\n",
      "dense_34 (Dense)             (None, 10)                110       \n",
      "_________________________________________________________________\n",
      "dense_35 (Dense)             (None, 10)                110       \n",
      "_________________________________________________________________\n",
      "dense_36 (Dense)             (None, 1)                 11        \n",
      "=================================================================\n",
      "Total params: 541\n",
      "Trainable params: 541\n",
      "Non-trainable params: 0\n",
      "_________________________________________________________________\n"
     ]
    }
   ],
   "source": [
    "model.summary()"
   ]
  },
  {
   "cell_type": "code",
   "execution_count": 124,
   "metadata": {},
   "outputs": [
    {
     "name": "stdout",
     "output_type": "stream",
     "text": [
      "Epoch 1/150\n",
      " - 0s - loss: 0.1611 - acc: 0.9322\n",
      "Epoch 2/150\n",
      " - 0s - loss: 0.1563 - acc: 0.9422\n",
      "Epoch 3/150\n",
      " - 0s - loss: 0.1774 - acc: 0.9296\n",
      "Epoch 4/150\n",
      " - 0s - loss: 0.1519 - acc: 0.9372\n",
      "Epoch 5/150\n",
      " - 0s - loss: 0.1433 - acc: 0.9422\n",
      "Epoch 6/150\n",
      " - 0s - loss: 0.1592 - acc: 0.9372\n",
      "Epoch 7/150\n",
      " - 0s - loss: 0.1766 - acc: 0.9196\n",
      "Epoch 8/150\n",
      " - 0s - loss: 0.1692 - acc: 0.9322\n",
      "Epoch 9/150\n",
      " - 0s - loss: 0.1610 - acc: 0.9372\n",
      "Epoch 10/150\n",
      " - 0s - loss: 0.1438 - acc: 0.9347\n",
      "Epoch 11/150\n",
      " - 0s - loss: 0.1664 - acc: 0.9322\n",
      "Epoch 12/150\n",
      " - 0s - loss: 0.1455 - acc: 0.9397\n",
      "Epoch 13/150\n",
      " - 0s - loss: 0.1595 - acc: 0.9372\n",
      "Epoch 14/150\n",
      " - 0s - loss: 0.1521 - acc: 0.9372\n",
      "Epoch 15/150\n",
      " - 0s - loss: 0.1743 - acc: 0.9271\n",
      "Epoch 16/150\n",
      " - 0s - loss: 0.1748 - acc: 0.9271\n",
      "Epoch 17/150\n",
      " - 0s - loss: 0.1629 - acc: 0.9296\n",
      "Epoch 18/150\n",
      " - 0s - loss: 0.1691 - acc: 0.9221\n",
      "Epoch 19/150\n",
      " - 0s - loss: 0.1468 - acc: 0.9347\n",
      "Epoch 20/150\n",
      " - 0s - loss: 0.1590 - acc: 0.9347\n",
      "Epoch 21/150\n",
      " - 0s - loss: 0.1812 - acc: 0.9296\n",
      "Epoch 22/150\n",
      " - 0s - loss: 0.1500 - acc: 0.9347\n",
      "Epoch 23/150\n",
      " - 0s - loss: 0.1498 - acc: 0.9296\n",
      "Epoch 24/150\n",
      " - 0s - loss: 0.1390 - acc: 0.9472\n",
      "Epoch 25/150\n",
      " - 0s - loss: 0.1707 - acc: 0.9271\n",
      "Epoch 26/150\n",
      " - 0s - loss: 0.1427 - acc: 0.9397\n",
      "Epoch 27/150\n",
      " - 0s - loss: 0.1471 - acc: 0.9372\n",
      "Epoch 28/150\n",
      " - 0s - loss: 0.1471 - acc: 0.9472\n",
      "Epoch 29/150\n",
      " - 0s - loss: 0.1489 - acc: 0.9322\n",
      "Epoch 30/150\n",
      " - 0s - loss: 0.1531 - acc: 0.9347\n",
      "Epoch 31/150\n",
      " - 0s - loss: 0.1592 - acc: 0.9372\n",
      "Epoch 32/150\n",
      " - 0s - loss: 0.1671 - acc: 0.9422\n",
      "Epoch 33/150\n",
      " - 0s - loss: 0.1413 - acc: 0.9372\n",
      "Epoch 34/150\n",
      " - 0s - loss: 0.1435 - acc: 0.9372\n",
      "Epoch 35/150\n",
      " - 0s - loss: 0.1376 - acc: 0.9397\n",
      "Epoch 36/150\n",
      " - 0s - loss: 0.1405 - acc: 0.9447\n",
      "Epoch 37/150\n",
      " - 0s - loss: 0.1540 - acc: 0.9372\n",
      "Epoch 38/150\n",
      " - 0s - loss: 0.1532 - acc: 0.9372\n",
      "Epoch 39/150\n",
      " - 0s - loss: 0.1777 - acc: 0.9322\n",
      "Epoch 40/150\n",
      " - 0s - loss: 0.2317 - acc: 0.9121\n",
      "Epoch 41/150\n",
      " - 0s - loss: 0.1624 - acc: 0.9296\n",
      "Epoch 42/150\n",
      " - 0s - loss: 0.1423 - acc: 0.9372\n",
      "Epoch 43/150\n",
      " - 0s - loss: 0.1456 - acc: 0.9372\n",
      "Epoch 44/150\n",
      " - 0s - loss: 0.1678 - acc: 0.9322\n",
      "Epoch 45/150\n",
      " - 0s - loss: 0.1295 - acc: 0.9497\n",
      "Epoch 46/150\n",
      " - 0s - loss: 0.1294 - acc: 0.9548\n",
      "Epoch 47/150\n",
      " - 0s - loss: 0.1397 - acc: 0.9422\n",
      "Epoch 48/150\n",
      " - 0s - loss: 0.1530 - acc: 0.9372\n",
      "Epoch 49/150\n",
      " - 0s - loss: 0.1421 - acc: 0.9422\n",
      "Epoch 50/150\n",
      " - 0s - loss: 0.1404 - acc: 0.9322\n",
      "Epoch 51/150\n",
      " - 0s - loss: 0.1389 - acc: 0.9447\n",
      "Epoch 52/150\n",
      " - 0s - loss: 0.1595 - acc: 0.9196\n",
      "Epoch 53/150\n",
      " - 0s - loss: 0.1377 - acc: 0.9523\n",
      "Epoch 54/150\n",
      " - 0s - loss: 0.1388 - acc: 0.9548\n",
      "Epoch 55/150\n",
      " - 0s - loss: 0.1321 - acc: 0.9422\n",
      "Epoch 56/150\n",
      " - 0s - loss: 0.1545 - acc: 0.9372\n",
      "Epoch 57/150\n",
      " - 0s - loss: 0.1328 - acc: 0.9447\n",
      "Epoch 58/150\n",
      " - 0s - loss: 0.1454 - acc: 0.9372\n",
      "Epoch 59/150\n",
      " - 0s - loss: 0.1601 - acc: 0.9422\n",
      "Epoch 60/150\n",
      " - 0s - loss: 0.1380 - acc: 0.9372\n",
      "Epoch 61/150\n",
      " - 0s - loss: 0.1315 - acc: 0.9497\n",
      "Epoch 62/150\n",
      " - 0s - loss: 0.1239 - acc: 0.9472\n",
      "Epoch 63/150\n",
      " - 0s - loss: 0.1340 - acc: 0.9397\n",
      "Epoch 64/150\n",
      " - 0s - loss: 0.1501 - acc: 0.9497\n",
      "Epoch 65/150\n",
      " - 0s - loss: 0.1570 - acc: 0.9347\n",
      "Epoch 66/150\n",
      " - 0s - loss: 0.1399 - acc: 0.9372\n",
      "Epoch 67/150\n",
      " - 0s - loss: 0.1201 - acc: 0.9523\n",
      "Epoch 68/150\n",
      " - 0s - loss: 0.1396 - acc: 0.9472\n",
      "Epoch 69/150\n",
      " - 0s - loss: 0.1890 - acc: 0.9221\n",
      "Epoch 70/150\n",
      " - 0s - loss: 0.1359 - acc: 0.9372\n",
      "Epoch 71/150\n",
      " - 0s - loss: 0.1383 - acc: 0.9422\n",
      "Epoch 72/150\n",
      " - 0s - loss: 0.1422 - acc: 0.9372\n",
      "Epoch 73/150\n",
      " - 0s - loss: 0.1260 - acc: 0.9422\n",
      "Epoch 74/150\n",
      " - 0s - loss: 0.1418 - acc: 0.9447\n",
      "Epoch 75/150\n",
      " - 0s - loss: 0.1449 - acc: 0.9447\n",
      "Epoch 76/150\n",
      " - 0s - loss: 0.1206 - acc: 0.9523\n",
      "Epoch 77/150\n",
      " - 0s - loss: 0.1304 - acc: 0.9497\n",
      "Epoch 78/150\n",
      " - 0s - loss: 0.1359 - acc: 0.9548\n",
      "Epoch 79/150\n",
      " - 0s - loss: 0.1264 - acc: 0.9497\n",
      "Epoch 80/150\n",
      " - 0s - loss: 0.1256 - acc: 0.9447\n",
      "Epoch 81/150\n",
      " - 0s - loss: 0.1256 - acc: 0.9523\n",
      "Epoch 82/150\n",
      " - 0s - loss: 0.1955 - acc: 0.9347\n",
      "Epoch 83/150\n",
      " - 0s - loss: 0.1924 - acc: 0.9347\n",
      "Epoch 84/150\n",
      " - 0s - loss: 0.1430 - acc: 0.9472\n",
      "Epoch 85/150\n",
      " - 0s - loss: 0.1283 - acc: 0.9422\n",
      "Epoch 86/150\n",
      " - 0s - loss: 0.1380 - acc: 0.9497\n",
      "Epoch 87/150\n",
      " - 0s - loss: 0.1248 - acc: 0.9422\n",
      "Epoch 88/150\n",
      " - 0s - loss: 0.1333 - acc: 0.9573\n",
      "Epoch 89/150\n",
      " - 0s - loss: 0.1241 - acc: 0.9573\n",
      "Epoch 90/150\n",
      " - 0s - loss: 0.1262 - acc: 0.9472\n",
      "Epoch 91/150\n",
      " - 0s - loss: 0.1245 - acc: 0.9523\n",
      "Epoch 92/150\n",
      " - 0s - loss: 0.1218 - acc: 0.9548\n",
      "Epoch 93/150\n",
      " - 0s - loss: 0.1187 - acc: 0.9422\n",
      "Epoch 94/150\n",
      " - 0s - loss: 0.1254 - acc: 0.9523\n",
      "Epoch 95/150\n",
      " - 0s - loss: 0.1157 - acc: 0.9523\n",
      "Epoch 96/150\n",
      " - 0s - loss: 0.1215 - acc: 0.9472\n",
      "Epoch 97/150\n",
      " - 0s - loss: 0.1192 - acc: 0.9472\n",
      "Epoch 98/150\n",
      " - 0s - loss: 0.1239 - acc: 0.9447\n",
      "Epoch 99/150\n",
      " - 0s - loss: 0.1179 - acc: 0.9497\n",
      "Epoch 100/150\n",
      " - 0s - loss: 0.1154 - acc: 0.9447\n",
      "Epoch 101/150\n",
      " - 0s - loss: 0.1162 - acc: 0.9397\n",
      "Epoch 102/150\n",
      " - 0s - loss: 0.1182 - acc: 0.9523\n",
      "Epoch 103/150\n",
      " - 0s - loss: 0.1184 - acc: 0.9548\n",
      "Epoch 104/150\n",
      " - 0s - loss: 0.1185 - acc: 0.9497\n",
      "Epoch 105/150\n",
      " - 0s - loss: 0.1373 - acc: 0.9322\n",
      "Epoch 106/150\n",
      " - 0s - loss: 0.1259 - acc: 0.9372\n",
      "Epoch 107/150\n",
      " - 0s - loss: 0.1148 - acc: 0.9523\n",
      "Epoch 108/150\n",
      " - 0s - loss: 0.1332 - acc: 0.9472\n",
      "Epoch 109/150\n",
      " - 0s - loss: 0.1132 - acc: 0.9497\n",
      "Epoch 110/150\n",
      " - 0s - loss: 0.1164 - acc: 0.9548\n",
      "Epoch 111/150\n",
      " - 0s - loss: 0.1143 - acc: 0.9422\n",
      "Epoch 112/150\n",
      " - 0s - loss: 0.1460 - acc: 0.9372\n",
      "Epoch 113/150\n",
      " - 0s - loss: 0.1658 - acc: 0.9322\n",
      "Epoch 114/150\n",
      " - 0s - loss: 0.1273 - acc: 0.9497\n",
      "Epoch 115/150\n",
      " - 0s - loss: 0.1712 - acc: 0.9246\n",
      "Epoch 116/150\n",
      " - 0s - loss: 0.1383 - acc: 0.9296\n",
      "Epoch 117/150\n",
      " - 0s - loss: 0.1177 - acc: 0.9422\n",
      "Epoch 118/150\n",
      " - 0s - loss: 0.1858 - acc: 0.9246\n",
      "Epoch 119/150\n",
      " - 0s - loss: 0.1645 - acc: 0.9271\n",
      "Epoch 120/150\n",
      " - 0s - loss: 0.1153 - acc: 0.9497\n",
      "Epoch 121/150\n",
      " - 0s - loss: 0.1233 - acc: 0.9447\n",
      "Epoch 122/150\n",
      " - 0s - loss: 0.1213 - acc: 0.9472\n",
      "Epoch 123/150\n",
      " - 0s - loss: 0.1128 - acc: 0.9497\n",
      "Epoch 124/150\n",
      " - 0s - loss: 0.1237 - acc: 0.9523\n",
      "Epoch 125/150\n",
      " - 0s - loss: 0.1419 - acc: 0.9472\n",
      "Epoch 126/150\n",
      " - 0s - loss: 0.1302 - acc: 0.9472\n",
      "Epoch 127/150\n",
      " - 0s - loss: 0.1189 - acc: 0.9573\n",
      "Epoch 128/150\n",
      " - 0s - loss: 0.1191 - acc: 0.9497\n",
      "Epoch 129/150\n",
      " - 0s - loss: 0.1801 - acc: 0.9221\n",
      "Epoch 130/150\n",
      " - 0s - loss: 0.1235 - acc: 0.9472\n",
      "Epoch 131/150\n",
      " - 0s - loss: 0.1437 - acc: 0.9397\n",
      "Epoch 132/150\n",
      " - 0s - loss: 0.1374 - acc: 0.9372\n",
      "Epoch 133/150\n",
      " - 0s - loss: 0.1078 - acc: 0.9447\n",
      "Epoch 134/150\n",
      " - 0s - loss: 0.1289 - acc: 0.9523\n",
      "Epoch 135/150\n",
      " - 0s - loss: 0.1106 - acc: 0.9573\n",
      "Epoch 136/150\n",
      " - 0s - loss: 0.1139 - acc: 0.9422\n",
      "Epoch 137/150\n",
      " - 0s - loss: 0.1137 - acc: 0.9523\n",
      "Epoch 138/150\n",
      " - 0s - loss: 0.1145 - acc: 0.9472\n",
      "Epoch 139/150\n",
      " - 0s - loss: 0.1228 - acc: 0.9523\n",
      "Epoch 140/150\n",
      " - 0s - loss: 0.1224 - acc: 0.9447\n",
      "Epoch 141/150\n",
      " - 0s - loss: 0.1119 - acc: 0.9548\n",
      "Epoch 142/150\n",
      " - 0s - loss: 0.1240 - acc: 0.9497\n",
      "Epoch 143/150\n",
      " - 0s - loss: 0.1219 - acc: 0.9472\n",
      "Epoch 144/150\n",
      " - 0s - loss: 0.1802 - acc: 0.9322\n",
      "Epoch 145/150\n",
      " - 0s - loss: 0.1195 - acc: 0.9447\n",
      "Epoch 146/150\n",
      " - 0s - loss: 0.1212 - acc: 0.9573\n",
      "Epoch 147/150\n",
      " - 0s - loss: 0.1171 - acc: 0.9472\n",
      "Epoch 148/150\n",
      " - 0s - loss: 0.1049 - acc: 0.9573\n",
      "Epoch 149/150\n",
      " - 0s - loss: 0.1043 - acc: 0.9523\n",
      "Epoch 150/150\n",
      " - 0s - loss: 0.1044 - acc: 0.9598\n"
     ]
    },
    {
     "data": {
      "text/plain": [
       "<keras.callbacks.History at 0x161906e0278>"
      ]
     },
     "execution_count": 124,
     "metadata": {},
     "output_type": "execute_result"
    }
   ],
   "source": [
    "model.fit(X_train, y_train, batch_size = 10, epochs = 150, verbose = 2)"
   ]
  },
  {
   "cell_type": "code",
   "execution_count": 126,
   "metadata": {},
   "outputs": [
    {
     "name": "stdout",
     "output_type": "stream",
     "text": [
      "\r",
      " 32/171 [====>.........................] - ETA: 0s\b\b\b\b\b\b\b\b\b\b\b\b\b\b\b\b\b\b\b\b\b\b\b\b\b\b\b\b\b\b\b\b\b\b\b\b\b\b\b\b\b\b\b\b\b\b\b\b\b\b\r",
      "171/171 [==============================] - 0s 758us/step\n"
     ]
    }
   ],
   "source": [
    "result = model.evaluate(X_test, y_test)"
   ]
  },
  {
   "cell_type": "code",
   "execution_count": 127,
   "metadata": {},
   "outputs": [
    {
     "name": "stdout",
     "output_type": "stream",
     "text": [
      "['loss', 'acc']\n",
      "[0.10531275270081926, 0.9590643274853801]\n"
     ]
    }
   ],
   "source": [
    "print(model.metrics_names)\n",
    "print(result)"
   ]
  },
  {
   "cell_type": "code",
   "execution_count": 128,
   "metadata": {},
   "outputs": [],
   "source": [
    "prediction = model.predict(X_test[:10])"
   ]
  },
  {
   "cell_type": "code",
   "execution_count": 129,
   "metadata": {},
   "outputs": [
    {
     "data": {
      "text/plain": [
       "array([[9.9930584e-01],\n",
       "       [1.4230954e-04],\n",
       "       [9.8149383e-01],\n",
       "       [9.9728930e-01],\n",
       "       [9.9360126e-01],\n",
       "       [8.0770720e-03],\n",
       "       [9.9886179e-01],\n",
       "       [9.9886620e-01],\n",
       "       [8.6854756e-01],\n",
       "       [9.9730444e-01]], dtype=float32)"
      ]
     },
     "execution_count": 129,
     "metadata": {},
     "output_type": "execute_result"
    }
   ],
   "source": [
    "prediction"
   ]
  },
  {
   "cell_type": "code",
   "execution_count": 130,
   "metadata": {},
   "outputs": [],
   "source": [
    "round = [round(x[0]) for x in prediction]"
   ]
  },
  {
   "cell_type": "code",
   "execution_count": 131,
   "metadata": {},
   "outputs": [
    {
     "name": "stdout",
     "output_type": "stream",
     "text": [
      "[1.0, 0.0, 1.0, 1.0, 1.0, 0.0, 1.0, 1.0, 1.0, 1.0]\n"
     ]
    }
   ],
   "source": [
    "print(round)"
   ]
  },
  {
   "cell_type": "code",
   "execution_count": null,
   "metadata": {},
   "outputs": [],
   "source": []
  }
 ],
 "metadata": {
  "kernelspec": {
   "display_name": "Python 3",
   "language": "python",
   "name": "python3"
  },
  "language_info": {
   "codemirror_mode": {
    "name": "ipython",
    "version": 3
   },
   "file_extension": ".py",
   "mimetype": "text/x-python",
   "name": "python",
   "nbconvert_exporter": "python",
   "pygments_lexer": "ipython3",
   "version": "3.6.3"
  }
 },
 "nbformat": 4,
 "nbformat_minor": 2
}
